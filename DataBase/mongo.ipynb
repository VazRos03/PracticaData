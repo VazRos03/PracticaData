{
 "cells": [
  {
   "cell_type": "code",
   "execution_count": 1,
   "metadata": {},
   "outputs": [],
   "source": [
    "from pymongo import MongoClient\n",
    "\n",
    "#conectar el servidor local de MongoDB\n",
    "client = MongoClient('localhost', 27017)"
   ]
  },
  {
   "cell_type": "code",
   "execution_count": 2,
   "metadata": {},
   "outputs": [],
   "source": [
    "#seleccion de la base de datos\n",
    "db = client['redSocial']"
   ]
  },
  {
   "cell_type": "code",
   "execution_count": 3,
   "metadata": {},
   "outputs": [],
   "source": [
    "#seleccionar la coleccion de la bd\n",
    "collection = db['post']"
   ]
  },
  {
   "cell_type": "code",
   "execution_count": 4,
   "metadata": {},
   "outputs": [],
   "source": [
    "#obtener todos los registros de la coleccion\n",
    "files = collection.find()"
   ]
  },
  {
   "cell_type": "code",
   "execution_count": 5,
   "metadata": {},
   "outputs": [
    {
     "name": "stdout",
     "output_type": "stream",
     "text": [
      "{'_id': ObjectId('66aec1161111081cb632ae34'), 'usuario': 'Luis', 'fechaCreacion': '2024-12-09', 'descripcion': 'Hola, es mi primer intento de insercion'}\n",
      "{'_id': ObjectId('66aec3341111081cb632ae35'), 'usuario': 'Juan', 'fechaCreacion': '2024-02-18', 'descripcion': 'Buenas tardes'}\n",
      "{'_id': ObjectId('66aec3341111081cb632ae36'), 'usuario': 'Delfino', 'fechaCreacion': '2024-11-23', 'descripcion': 'Hoy estoy feliz'}\n"
     ]
    }
   ],
   "source": [
    "#imprimir los documentos \n",
    "for file in files:\n",
    "    print(file)"
   ]
  },
  {
   "cell_type": "code",
   "execution_count": 7,
   "metadata": {},
   "outputs": [],
   "source": [
    "#creando documento a insertar\n",
    "documento = [{'usuario': 'Luis', 'fechaCreacion': '2024-12-09', 'descripcion': 'Hola, me huelen las patas'},\n",
    "             {'usuario': 'Alberto', 'fechaCreacion': '2022-07-02', 'descripcion': 'Quiero ser feliz'},\n",
    "             {'usuario': 'Alex', 'fechaCreacion': '2021-01-01', 'descripcion': 'HakunaMatata'}\n",
    "             ]"
   ]
  },
  {
   "cell_type": "code",
   "execution_count": 8,
   "metadata": {},
   "outputs": [],
   "source": [
    "#insertamos los documentos\n",
    "resultado = collection.insert_many(documento)"
   ]
  },
  {
   "cell_type": "code",
   "execution_count": 9,
   "metadata": {},
   "outputs": [
    {
     "name": "stdout",
     "output_type": "stream",
     "text": [
      "IDs de los documentos insertados:  [ObjectId('66aecb7dd877506cee8c0ae7'), ObjectId('66aecb7dd877506cee8c0ae8'), ObjectId('66aecb7dd877506cee8c0ae9')]\n"
     ]
    }
   ],
   "source": [
    "#imprimir los ids de los documentos insertados \n",
    "print(\"IDs de los documentos insertados: \", resultado.inserted_ids)"
   ]
  }
 ],
 "metadata": {
  "kernelspec": {
   "display_name": "base",
   "language": "python",
   "name": "python3"
  },
  "language_info": {
   "codemirror_mode": {
    "name": "ipython",
    "version": 3
   },
   "file_extension": ".py",
   "mimetype": "text/x-python",
   "name": "python",
   "nbconvert_exporter": "python",
   "pygments_lexer": "ipython3",
   "version": "3.10.9"
  }
 },
 "nbformat": 4,
 "nbformat_minor": 2
}
